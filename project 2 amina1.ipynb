{
 "cells": [
  {
   "cell_type": "code",
   "execution_count": null,
   "metadata": {},
   "outputs": [],
   "source": [
    "import socket\n",
    "\n",
    "def ping_url(url):\n",
    "    try:\n",
    "        # Attempt to resolve the IP address of the URL\n",
    "        ip_address = socket.gethostbyname(url)\n",
    "        print(f\"{url} is reachable. IP address: {ip_address}\")\n",
    "        return True\n",
    "    except socket.gaierror:\n",
    "        print(f\"{url} is unreachable.\")\n",
    "        return False\n",
    "\n",
    "def main():\n",
    "    file_path = input(\"Enter the path to the file containing URLs: \")\n",
    "\n",
    "    with open(file_path, 'r') as file:\n",
    "        urls = file.readlines()\n",
    "\n",
    "    successful_pings = 0\n",
    "    failed_pings = 0\n",
    "\n",
    "    for url in urls:\n",
    "        url = url.strip()\n",
    "        if ping_url(url):\n",
    "            successful_pings += 1\n",
    "        else:\n",
    "            failed_pings += 1\n",
    "\n",
    "    print(\"\\nSummary:\")\n",
    "    print(f\"Total URLs: {len(urls)}\")\n",
    "    print(f\"Successful pings: {successful_pings}\")\n",
    "    print(f\"Failed pings: {failed_pings}\")\n",
    "\n",
    "if __name__ == \"__main__\":\n",
    "    main()\n"
   ]
  }
 ],
 "metadata": {
  "language_info": {
   "name": "python"
  }
 },
 "nbformat": 4,
 "nbformat_minor": 2
}
