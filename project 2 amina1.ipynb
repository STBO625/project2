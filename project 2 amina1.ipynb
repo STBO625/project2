{
 "cells": [
  {
   "cell_type": "code",
   "execution_count": null,
   "metadata": {},
   "outputs": [],
   "source": [
    "import requests\n",
    "\n",
    "def check_url_reachability(url):\n",
    "    try:\n",
    "        response = requests.head(url, timeout=10)  # Send a HEAD request to the URL\n",
    "        if response.status_code == 200:\n",
    "            print(f\"{url} is reachable.\")\n",
    "        else:\n",
    "            print(f\"{url} is unreachable. Status code: {response.status_code}\")\n",
    "    except requests.RequestException as e:\n",
    "        print(f\"An error occurred while trying to reach {url}: {e}\")\n",
    "\n",
    "def main():\n",
    "    # Read URLs from a file (urls.txt)\n",
    "    with open(\"urls.txt\", \"r\") as file:\n",
    "        urls = file.read().splitlines()\n",
    "\n",
    "    # Check the reachability of each URL\n",
    "    for url in urls:\n",
    "        check_url_reachability(url)\n",
    "\n",
    "if __name__ == \"__main__\":\n",
    "    main()\n"
   ]
  }
 ],
 "metadata": {
  "language_info": {
   "name": "python"
  }
 },
 "nbformat": 4,
 "nbformat_minor": 2
}
