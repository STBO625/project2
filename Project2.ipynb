{
 "cells": [
  {
   "cell_type": "code",
   "execution_count": 7,
   "metadata": {},
   "outputs": [
    {
     "name": "stdout",
     "output_type": "stream",
     "text": [
      "Error: Could not resolve https://www.whisthub.com/ to an IP address.\n",
      "Error: Could not resolve https://ttonline.sporta.be/ to an IP address.\n",
      "Error: Could not resolve https://competitie.vttl.be/ to an IP address.\n",
      "Error: Could not resolve https://ttonline.sporta.be/?province=4& to an IP address.\n",
      "Ping results:\n",
      "https://www.whisthub.com/: Failure\n",
      "https://ttonline.sporta.be/: Failure\n",
      "https://competitie.vttl.be/: Failure\n",
      "https://ttonline.sporta.be/?province=4&: Failure\n"
     ]
    }
   ],
   "source": [
    "import subprocess\n",
    "import socket\n",
    "\n",
    "def ping_url(url):\n",
    "    \"\"\"\n",
    "    Ping the specified URL or IPv4 address and return True if successful, False otherwise.\n",
    "    \"\"\"\n",
    "    try:\n",
    "        ip_address = socket.gethostbyname(url)\n",
    "    except socket.gaierror:\n",
    "        print(f\"Error: Could not resolve {url} to an IP address.\")\n",
    "        return False\n",
    "    \n",
    "    command = ['ping', '-c', '4', ip_address]  # Sending 4 ICMP echo requests\n",
    "    try:\n",
    "        subprocess.run(command, check=True, stdout=subprocess.PIPE, stderr=subprocess.PIPE, timeout=10)\n",
    "        return True\n",
    "    except subprocess.CalledProcessError:\n",
    "        return False\n",
    "    except subprocess.TimeoutExpired:\n",
    "        return False\n",
    "\n",
    "def main():\n",
    "    urls_file = \"urls.txt\"\n",
    "\n",
    "    try:\n",
    "        with open(urls_file, \"r\") as file:\n",
    "            urls = file.read().splitlines()\n",
    "    except FileNotFoundError:\n",
    "        print(f\"Error: {urls_file} not found.\")\n",
    "        return\n",
    "\n",
    "    results = {}\n",
    "\n",
    "    for url in urls:\n",
    "        if ping_url(url):\n",
    "            results[url] = \"Success\"\n",
    "        else:\n",
    "            results[url] = \"Failure\"\n",
    "\n",
    "    print(\"Ping results:\")\n",
    "    for url, result in results.items():\n",
    "        print(f\"{url}: {result}\")\n",
    "\n",
    "if __name__ == \"__main__\":\n",
    "    main()\n"
   ]
  }
 ],
 "metadata": {
  "kernelspec": {
   "display_name": "Python 3",
   "language": "python",
   "name": "python3"
  },
  "language_info": {
   "codemirror_mode": {
    "name": "ipython",
    "version": 3
   },
   "file_extension": ".py",
   "mimetype": "text/x-python",
   "name": "python",
   "nbconvert_exporter": "python",
   "pygments_lexer": "ipython3",
   "version": "3.12.1"
  }
 },
 "nbformat": 4,
 "nbformat_minor": 2
}
