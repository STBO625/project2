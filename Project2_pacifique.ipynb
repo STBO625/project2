{
 "cells": [
  {
   "cell_type": "code",
   "execution_count": 6,
   "metadata": {},
   "outputs": [
    {
     "name": "stdout",
     "output_type": "stream",
     "text": [
      "Pinging URLs...\n",
      "https://.google.com - Unreachable\n",
      "https://ttonline.sporta.be/ - Unreachable\n",
      "https://competitie.vttl.be/ - Unreachable\n",
      "https://ttonline.sporta.be/?province=4& - Unreachable\n",
      "192.168.1.22 - Unreachable\n",
      "192.168.1.95 - Unreachable\n",
      "\n",
      "Summary:\n",
      "Successful pings: 0\n",
      "Failed pings: 6\n"
     ]
    }
   ],
   "source": [
    "import subprocess\n",
    "\n",
    "def ping_url(url):\n",
    "    \"\"\"\n",
    "    Ping the specified URL and return a tuple (URL, reachable, time).\n",
    "    reachable is a boolean indicating if the URL is reachable,\n",
    "    time is the round-trip time in milliseconds if reachable, None otherwise.\n",
    "    \"\"\"\n",
    "    command = ['ping', '-c', '4', url]  # Pinging 4 times for more reliable results\n",
    "    ping_process = subprocess.Popen(command, stdout=subprocess.PIPE, stderr=subprocess.PIPE)\n",
    "    output, error = ping_process.communicate()\n",
    "    output_str = output.decode('utf-8')\n",
    "\n",
    "    if \"64 bytes from\" in output_str:  # Check if ping was successful\n",
    "        start_index = output_str.find(\"time=\")\n",
    "        end_index = output_str.find(\" ms\", start_index)\n",
    "        time = float(output_str[start_index + 5:end_index])\n",
    "        return (url, True, time)\n",
    "    else:\n",
    "        return (url, False, None)\n",
    "\n",
    "def main():\n",
    "    filename = input(\"Enter the file name with URls:\")\n",
    "\n",
    "    # Read URLs from the file\n",
    "    try:\n",
    "        with open(filename, 'r') as file:\n",
    "            urls = file.readlines()\n",
    "            urls = [url.strip() for url in urls]\n",
    "    except FileNotFoundError:\n",
    "        print(\"File not found.\")\n",
    "        return\n",
    "\n",
    "    successful_pings = 0\n",
    "    failed_pings = 0\n",
    "\n",
    "    print(\"Pinging URLs...\")\n",
    "    for url in urls:\n",
    "        url, reachable, time = ping_url(url)\n",
    "        if reachable:\n",
    "            successful_pings += 1\n",
    "            print(f\"{url} - Reachable, RTT: {time} ms\")\n",
    "        else:\n",
    "            failed_pings += 1\n",
    "            print(f\"{url} - Unreachable\")\n",
    "\n",
    "    print(\"\\nSummary:\")\n",
    "    print(f\"Successful pings: {successful_pings}\")\n",
    "    print(f\"Failed pings: {failed_pings}\")\n",
    "\n",
    "if __name__ == \"__main__\":\n",
    "    main()\n"
   ]
  }
 ],
 "metadata": {
  "kernelspec": {
   "display_name": "Python 3",
   "language": "python",
   "name": "python3"
  },
  "language_info": {
   "codemirror_mode": {
    "name": "ipython",
    "version": 3
   },
   "file_extension": ".py",
   "mimetype": "text/x-python",
   "name": "python",
   "nbconvert_exporter": "python",
   "pygments_lexer": "ipython3",
   "version": "3.12.1"
  }
 },
 "nbformat": 4,
 "nbformat_minor": 2
}
